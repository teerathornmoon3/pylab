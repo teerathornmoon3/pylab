{
 "cells": [
  {
   "cell_type": "code",
   "execution_count": 8,
   "metadata": {},
   "outputs": [],
   "source": [
    "def cal(emp_name,money,ottime):\n",
    "    try:\n",
    "        multiple = 100\n",
    "        if ottime >= 40:\n",
    "            multiple *= 1.5\n",
    "        return f\"{emp_name} จะได้รับเงินเดือนรวม {money+(ottime*multiple)} บาท (เงินเดือน {money} บาท ค่าล่วงเวลา {ottime*multiple} บาท(ชั่วโมงละ {multiple} บาท เป็นเวลา {ottime} ชั่วโมง))\"\n",
    "    except Exception as e:\n",
    "        return \"Calculate error:\",e"
   ]
  },
  {
   "cell_type": "code",
   "execution_count": 11,
   "metadata": {},
   "outputs": [
    {
     "name": "stdout",
     "output_type": "stream",
     "text": [
      "T จะได้รับเงินเดือนรวม 17500.0 บาท (เงินเดือน 10000 บาท ค่าล่วงเวลา 7500.0 บาท(ชั่วโมงละ 150.0 บาท เป็นเวลา 50 ชั่วโมง))\n"
     ]
    }
   ],
   "source": [
    "try:\n",
    "    money = int(input(\"เงินเดือน: \"))\n",
    "    ot = int(input(\"OT: \"))\n",
    "except Exception as e:\n",
    "    print(\"Input error:\",e)\n",
    "\n",
    "print(cal(\"T\",money,ot))"
   ]
  }
 ],
 "metadata": {
  "kernelspec": {
   "display_name": "Python 3",
   "language": "python",
   "name": "python3"
  },
  "language_info": {
   "codemirror_mode": {
    "name": "ipython",
    "version": 3
   },
   "file_extension": ".py",
   "mimetype": "text/x-python",
   "name": "python",
   "nbconvert_exporter": "python",
   "pygments_lexer": "ipython3",
   "version": "3.12.3"
  }
 },
 "nbformat": 4,
 "nbformat_minor": 2
}
